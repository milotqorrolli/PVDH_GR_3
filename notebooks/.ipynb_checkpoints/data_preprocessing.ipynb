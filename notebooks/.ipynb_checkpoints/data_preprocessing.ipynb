{
 "cells": [
  {
   "cell_type": "markdown",
   "id": "fe8ac58a",
   "metadata": {},
   "source": [
    "# Data Preprocessing Notebook - Commit Division\n",
    "\n",
    "**Team Members:** Endrita, Gent, Milot\n",
    "\n",
    "---\n"
   ]
  },
  {
   "cell_type": "markdown",
   "id": "3a5648b3",
   "metadata": {},
   "source": [
    "# Para-procesimi i të Dhënave për Analizë\n",
    "## Data Preprocessing for Flight Data Analysis\n",
    "\n",
    "Ky notebook përfshin:\n",
    "1. Mbledhja e të dhënave, definimi i tipeve të dhënave, kualiteti i të dhënave\n",
    "2. Integrimi, agregimi, mostrimi, pastrimi, identifikimi dhe strategjia e trajtimit për vlerat e zbrazëta\n",
    "3. Reduktimi i dimensionit, zgjedhja e nën bashkësisë së vetive, krijimi i vetive, diskretizimi dhe binarizimi, transformimi\n",
    "\n",
    "**Dataset Source:** `flights_sample_3m.csv` - Sample of 3 million flight records for analysis\n",
    "\n",
    "---\n"
   ]
  }
 ],
 "metadata": {
  "language_info": {
   "name": "python"
  }
 },
 "nbformat": 4,
 "nbformat_minor": 5
}
