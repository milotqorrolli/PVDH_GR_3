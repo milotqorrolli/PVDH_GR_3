{
 "cells": [
  {
   "cell_type": "markdown",
   "id": "fe8ac58a",
   "metadata": {},
   "source": [
    "# Data Preprocessing Notebook - Commit Division\n",
    "\n",
    "**Team Members:** Endrita, Gent, Milot\n",
    "\n",
    "---\n"
   ]
  },
  {
   "cell_type": "markdown",
   "id": "3a5648b3",
   "metadata": {},
   "source": [
    "# Para-procesimi i të Dhënave për Analizë\n",
    "## Data Preprocessing for Flight Data Analysis\n",
    "\n",
    "Ky notebook përfshin:\n",
    "1. Mbledhja e të dhënave, definimi i tipeve të dhënave, kualiteti i të dhënave\n",
    "2. Integrimi, agregimi, mostrimi, pastrimi, identifikimi dhe strategjia e trajtimit për vlerat e zbrazëta\n",
    "3. Reduktimi i dimensionit, zgjedhja e nën bashkësisë së vetive, krijimi i vetive, diskretizimi dhe binarizimi, transformimi\n",
    "\n",
    "**Dataset Source:** `flights_sample_3m.csv`(https://www.kaggle.com/datasets/patrickzel/flight-delay-and-cancellation-dataset-2019-2023/data) - Sample of 3 million flight records for analysis\n",
    "\n",
    "---\n"
   ]
  },
  {
   "cell_type": "code",
   "execution_count": null,
   "id": "e6036999",
   "metadata": {},
   "outputs": [],
   "source": [
    "# Informacioni bazë për dataset\n",
    "print(\"📋 INFORMACIONI PËR DATASET:\\n\")\n",
    "print(df.info())\n",
    "print(\"\\n\" + \"=\"*70 + \"\\n\")\n",
    "\n",
    "# Tregoni tipet e të dhënave\n",
    "print(\"📊 TIPET E TË DHËNAVE:\")\n",
    "print(df.dtypes)\n",
    "print(\"\\n\" + \"=\"*70 + \"\\n\")\n",
    "\n",
    "# Statistika përshkruese\n",
    "print(\"📈 STATISTIKA PËRSHKRUESE:\")\n",
    "df.describe(include='all').T"
   ]
  },
  {
   "cell_type": "code",
   "execution_count": null,
   "id": "fafff89f",
   "metadata": {},
   "outputs": [],
   "source": [
    "# Kontrollimi i dublikateve\n",
    "print(\"🔍 DUBLIKATET:\\n\")\n",
    "duplicates = df.duplicated().sum()\n",
    "print(f\"Numri i rreshtave dublikat: {duplicates:,}\")\n",
    "print(f\"Përqindja e dublikateve: {(duplicates/len(df)*100):.2f}%\")"
   ]
  },
  {
   "cell_type": "markdown",
   "id": "f7dba777",
   "metadata": {},
   "source": [
    "## 4.5 Reduktimi Inteligjent i Kolonave / Intelligent Column Reduction\n",
    "\n",
    "Reduktimi i numrit të kolonave duke hequr:\n",
    "- Kolonat me variancë të ulët (low variance)\n",
    "- Kolonat me korrelacion të lartë (high correlation)"
   ]
  },
  {
   "cell_type": "code",
   "execution_count": null,
   "id": "bceb61d6",
   "metadata": {},
   "outputs": [],
   "source": [
    "# HAPI 4: Përmbledhje e Reduktimit\n",
    "print(\"\\n\" + \"=\"*70)\n",
    "print(\"📊 PËRMBLEDHJA E REDUKTIMIT TË KOLONAVE\")\n",
    "print(\"=\"*70)\n",
    "\n",
    "final_count = len(df_reduced.columns)\n",
    "removed_count = original_count - final_count\n",
    "reduction_percent = (removed_count / original_count) * 100\n",
    "\n",
    "print(f\"\\n✅ Kolonat fillestare:  {original_count}\")\n",
    "print(f\"❌ Kolonat e hequra:    {removed_count}\")\n",
    "print(f\"✅ Kolonat e mbetura:   {final_count}\")\n",
    "print(f\"📉 Reduktim:            {reduction_percent:.1f}%\")\n",
    "\n",
    "print(f\"\\n📋 Lista e kolonave të mbetura:\")\n",
    "for i, col in enumerate(df_reduced.columns, 1):\n",
    "    print(f\"   {i}. {col}\")\n",
    "\n",
    "print(f\"\\n✅ Dataset i optimizuar: {len(df_reduced):,} rreshta × {final_count} kolona\")\n",
    "print(\"\\n💡 Tani do të punojmë me këtë dataset të reduktuar për analizat e tjera!\")"
   ]
  },
  {
   "cell_type": "code",
   "execution_count": null,
   "id": "1d31a8df",
   "metadata": {},
   "outputs": [],
   "source": [
    "# Vizualizimi i reduktimit\n",
    "fig, (ax1, ax2) = plt.subplots(1, 2, figsize=(14, 5))\n",
    "\n",
    "# Grafiku 1: Krahasimi para/pas\n",
    "categories = ['Fillestare', 'Pas Reduktimit']\n",
    "counts = [original_count, final_count]\n",
    "colors = ['#ff6b6b', '#51cf66']\n",
    "\n",
    "ax1.bar(categories, counts, color=colors, alpha=0.7, edgecolor='black')\n",
    "ax1.set_ylabel('Numri i Kolonave')\n",
    "ax1.set_title('Krahasimi: Para dhe Pas Reduktimit', fontsize=12, fontweight='bold')\n",
    "ax1.set_ylim(0, original_count + 5)\n",
    "\n",
    "# Shto vlerat mbi shtylla\n",
    "for i, (cat, count) in enumerate(zip(categories, counts)):\n",
    "    ax1.text(i, count + 0.5, str(count), ha='center', fontweight='bold', fontsize=12)\n",
    "\n",
    "# Grafiku 2: Pie chart e reduktimit\n",
    "sizes = [final_count, removed_count]\n",
    "labels = [f'Të mbetur\\n({final_count} kolona)', f'Të hequra\\n({removed_count} kolona)']\n",
    "colors_pie = ['#51cf66', '#ff6b6b']\n",
    "explode = (0.05, 0.05)\n",
    "\n",
    "ax2.pie(sizes, explode=explode, labels=labels, colors=colors_pie, autopct='%1.1f%%',\n",
    "        shadow=True, startangle=90, textprops={'fontsize': 11, 'fontweight': 'bold'})\n",
    "ax2.set_title('Përqindja e Reduktimit', fontsize=12, fontweight='bold')\n",
    "\n",
    "plt.tight_layout()\n",
    "plt.show()\n",
    "\n",
    "print(f\"\\n🎯 Dataset i optimizuar është gati për analizë!\")"
   ]
  },
  {
   "cell_type": "markdown",
   "id": "9d78382d",
   "metadata": {},
   "source": [
    "## 5. Mostrimi i të Dhënave / Data Sampling\n",
    "\n",
    "Për të punuar më shpejt me një dataset të madh, do të krijojmë mostra."
   ]
  },
  {
   "cell_type": "markdown",
   "id": "9293b21d",
   "metadata": {},
   "source": [
    "## Phase 2 – Missing Value Treatment\n",
    "\n",
    "### 7. Identifikimi dhe Trajtimi i Vlerave të Zbrazëta / Missing Values Treatment"
   ]
  },
  {
   "cell_type": "code",
   "execution_count": null,
   "id": "1bfc01a2",
   "metadata": {},
   "outputs": [],
   "source": [
    "# Identifikimi i kolonave numerike dhe kategorike\n",
    "numeric_cols = df_work.select_dtypes(include=['int64', 'float64']).columns.tolist()\n",
    "categorical_cols = df_work.select_dtypes(include=['object']).columns.tolist()\n",
    "\n",
    "print(\"📊 KATEGORIZIMI I KOLONAVE:\")\n",
    "print(f\"\\nKolona numerike ({len(numeric_cols)}): {numeric_cols[:10]}...\")  # Shfaq vetëm 10 të parat\n",
    "print(f\"\\nKolona kategorike ({len(categorical_cols)}): {categorical_cols[:10]}...\")\n",
    "\n",
    "# Krijimi i një kopje për trajtimin e vlerave të zbrazëta\n",
    "df_imputed = df_work.copy()"
   ]
  },
  {
   "cell_type": "markdown",
   "id": "a883e906",
   "metadata": {},
   "source": [
    "## 10. Diskretizimi / Discretization\n",
    "\n",
    "Transformimi i vlerave të vazhdueshme në kategori diskrete (binning)."
   ]
  },
  {
   "cell_type": "code",
   "execution_count": null,
   "id": "d43a979b",
   "metadata": {},
   "outputs": [],
   "source": [
    "# Diskretizimi i vlerave të vazhdueshme\n",
    "print(\"📦 DISKRETIZIMI (Binning)\")\n",
    "print(\"=\"*70)\n",
    "\n",
    "df_discretized = df_engineered.copy()\n",
    "\n",
    "if len(numeric_cols) > 0:\n",
    "    # Mer kolonën e parë numerike për shembull\n",
    "    num_col = numeric_cols[0]\n",
    "\n",
    "    # Metodë 1: Equal-width binning (intervale të barabarta)\n",
    "    df_discretized[f'{num_col}_equal_width'] = pd.cut(\n",
    "        df_discretized[num_col],\n",
    "        bins=5,\n",
    "        labels=['Very Low', 'Low', 'Medium', 'High', 'Very High']  # English labels\n",
    "    )\n",
    "    print(f\"✅ Equal-width binning për '{num_col}':\")\n",
    "    print(df_discretized[f'{num_col}_equal_width'].value_counts())\n",
    "\n",
    "    # Metodë 2: Equal-frequency binning (kuantile)\n",
    "    df_discretized[f'{num_col}_equal_freq'] = pd.qcut(\n",
    "        df_discretized[num_col],\n",
    "        q=5,\n",
    "        labels=['Q1', 'Q2', 'Q3', 'Q4', 'Q5'],\n",
    "        duplicates='drop'\n",
    "    )\n",
    "    print(f\"\\n✅ Equal-frequency binning për '{num_col}':\")\n",
    "    print(df_discretized[f'{num_col}_equal_freq'].value_counts())\n",
    "\n",
    "    # Metodë 3: Custom binning\n",
    "    bins = [df_discretized[num_col].min(),\n",
    "            df_discretized[num_col].quantile(0.33),\n",
    "            df_discretized[num_col].quantile(0.67),\n",
    "            df_discretized[num_col].max()]\n",
    "    df_discretized[f'{num_col}_custom'] = pd.cut(\n",
    "        df_discretized[num_col],\n",
    "        bins=bins,\n",
    "        labels=['Low', 'Medium', 'High'],  # English labels\n",
    "        include_lowest=True\n",
    "    )\n",
    "    print(f\"\\n✅ Custom binning për '{num_col}':\")\n",
    "    print(df_discretized[f'{num_col}_custom'].value_counts())"
   ]
  },
  {
   "cell_type": "markdown",
   "id": "ba5ae6f8",
   "metadata": {},
   "source": [
    "## 12. Transformimi i të Dhënave / Data Transformation\n",
    "\n",
    "Aplikimi i transformimeve të ndryshme për normalizim dhe standardizim."
   ]
  },
  {
   "cell_type": "code",
   "execution_count": null,
   "id": "b5e06f7a",
   "metadata": {},
   "outputs": [],
   "source": [
    "# Transformimi i të dhënave\n",
    "print(\"🔄 TRANSFORMIMI I TË DHËNAVE\")\n",
    "print(\"=\"*70)\n",
    "\n",
    "if len(numeric_cols) > 0:\n",
    "    # Mer kolonat numerike që nuk kanë vlera të zbrazëta\n",
    "    numeric_data = df_binary[numeric_cols].select_dtypes(include=[np.number]).dropna(axis=1)\n",
    "    \n",
    "    if numeric_data.shape[1] > 0:\n",
    "        # Mer disa kolona për shembull (max 3)\n",
    "        sample_cols = numeric_data.columns[:min(3, len(numeric_data.columns))]\n",
    "        sample_data = numeric_data[sample_cols]\n",
    "        \n",
    "        # 1. Min-Max Normalization (0-1)\n",
    "        scaler_minmax = MinMaxScaler()\n",
    "        normalized_data = scaler_minmax.fit_transform(sample_data)\n",
    "        df_normalized = pd.DataFrame(\n",
    "            normalized_data, \n",
    "            columns=[f'{col}_normalized' for col in sample_cols],\n",
    "            index=sample_data.index\n",
    "        )\n",
    "        \n",
    "        print(\"✅ Min-Max Normalization (0-1):\")\n",
    "        print(df_normalized.describe())\n",
    "        \n",
    "        # 2. Standardization (Z-score)\n",
    "        scaler_standard = StandardScaler()\n",
    "        standardized_data = scaler_standard.fit_transform(sample_data)\n",
    "        df_standardized = pd.DataFrame(\n",
    "            standardized_data,\n",
    "            columns=[f'{col}_standardized' for col in sample_cols],\n",
    "            index=sample_data.index\n",
    "        )\n",
    "        \n",
    "        print(\"\\n✅ Standardization (Z-score, mean=0, std=1):\")\n",
    "        print(df_standardized.describe())\n",
    "        \n",
    "        # 3. Log Transformation (për të dhënat që janë > 0)\n",
    "        df_log = pd.DataFrame(index=sample_data.index)\n",
    "        for col in sample_cols:\n",
    "            if (sample_data[col] > 0).all():\n",
    "                df_log[f'{col}_log'] = np.log1p(sample_data[col])\n",
    "        \n",
    "        if len(df_log.columns) > 0:\n",
    "            print(\"\\n✅ Log Transformation:\")\n",
    "            print(df_log.describe())\n",
    "    else:\n",
    "        print(\"⚠️ Nuk ka kolona numerike të përshtatshme për transformim\")"
   ]
  }
 ],
 "metadata": {
  "language_info": {
   "name": "python"
  }
 },
 "nbformat": 4,
 "nbformat_minor": 5
}
