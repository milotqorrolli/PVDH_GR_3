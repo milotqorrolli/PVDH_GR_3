{
 "cells": [
  {
   "cell_type": "markdown",
   "id": "fe8ac58a",
   "metadata": {},
   "source": [
    "# Data Preprocessing Notebook - Commit Division\n",
    "\n",
    "**Team Members:** Endrita, Gent, Milot\n",
    "\n",
    "---\n"
   ]
  },
  {
   "cell_type": "markdown",
   "id": "3a5648b3",
   "metadata": {},
   "source": [
    "# Para-procesimi i të Dhënave për Analizë\n",
    "## Data Preprocessing for Flight Data Analysis\n",
    "\n",
    "Ky notebook përfshin:\n",
    "1. Mbledhja e të dhënave, definimi i tipeve të dhënave, kualiteti i të dhënave\n",
    "2. Integrimi, agregimi, mostrimi, pastrimi, identifikimi dhe strategjia e trajtimit për vlerat e zbrazëta\n",
    "3. Reduktimi i dimensionit, zgjedhja e nën bashkësisë së vetive, krijimi i vetive, diskretizimi dhe binarizimi, transformimi\n",
    "\n",
    "**Dataset Source:** `flights_sample_3m.csv`(https://www.kaggle.com/datasets/patrickzel/flight-delay-and-cancellation-dataset-2019-2023/data) - Sample of 3 million flight records for analysis\n",
    "\n",
    "---\n"
   ]
  },
  {
   "cell_type": "code",
   "execution_count": null,
   "id": "e6036999",
   "metadata": {},
   "outputs": [],
   "source": [
    "# Informacioni bazë për dataset\n",
    "print(\"📋 INFORMACIONI PËR DATASET:\\n\")\n",
    "print(df.info())\n",
    "print(\"\\n\" + \"=\"*70 + \"\\n\")\n",
    "\n",
    "# Tregoni tipet e të dhënave\n",
    "print(\"📊 TIPET E TË DHËNAVE:\")\n",
    "print(df.dtypes)\n",
    "print(\"\\n\" + \"=\"*70 + \"\\n\")\n",
    "\n",
    "# Statistika përshkruese\n",
    "print(\"📈 STATISTIKA PËRSHKRUESE:\")\n",
    "df.describe(include='all').T"
   ]
  }
 ],
 "metadata": {
  "language_info": {
   "name": "python"
  }
 },
 "nbformat": 4,
 "nbformat_minor": 5
}
