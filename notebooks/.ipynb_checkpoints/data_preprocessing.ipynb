{
 "cells": [
  {
   "cell_type": "markdown",
   "id": "fe8ac58a",
   "metadata": {},
   "source": [
    "# Data Preprocessing Notebook - Commit Division\n",
    "\n",
    "**Team Members:** Endrita, Gent, Milot\n",
    "\n",
    "---\n"
   ]
  },
  {
   "cell_type": "markdown",
   "id": "3a5648b3",
   "metadata": {},
   "source": [
    "# Para-procesimi i të Dhënave për Analizë\n",
    "## Data Preprocessing for Flight Data Analysis\n",
    "\n",
    "Ky notebook përfshin:\n",
    "1. Mbledhja e të dhënave, definimi i tipeve të dhënave, kualiteti i të dhënave\n",
    "2. Integrimi, agregimi, mostrimi, pastrimi, identifikimi dhe strategjia e trajtimit për vlerat e zbrazëta\n",
    "3. Reduktimi i dimensionit, zgjedhja e nën bashkësisë së vetive, krijimi i vetive, diskretizimi dhe binarizimi, transformimi\n",
    "\n",
    "**Dataset Source:** `flights_sample_3m.csv`(https://www.kaggle.com/datasets/patrickzel/flight-delay-and-cancellation-dataset-2019-2023/data) - Sample of 3 million flight records for analysis\n",
    "\n",
    "---\n"
   ]
  },
  {
   "cell_type": "code",
   "execution_count": null,
   "id": "e6036999",
   "metadata": {},
   "outputs": [],
   "source": [
    "# Informacioni bazë për dataset\n",
    "print(\"📋 INFORMACIONI PËR DATASET:\\n\")\n",
    "print(df.info())\n",
    "print(\"\\n\" + \"=\"*70 + \"\\n\")\n",
    "\n",
    "# Tregoni tipet e të dhënave\n",
    "print(\"📊 TIPET E TË DHËNAVE:\")\n",
    "print(df.dtypes)\n",
    "print(\"\\n\" + \"=\"*70 + \"\\n\")\n",
    "\n",
    "# Statistika përshkruese\n",
    "print(\"📈 STATISTIKA PËRSHKRUESE:\")\n",
    "df.describe(include='all').T"
   ]
  },
  {
   "cell_type": "code",
   "execution_count": null,
   "id": "fafff89f",
   "metadata": {},
   "outputs": [],
   "source": [
    "# Kontrollimi i dublikateve\n",
    "print(\"🔍 DUBLIKATET:\\n\")\n",
    "duplicates = df.duplicated().sum()\n",
    "print(f\"Numri i rreshtave dublikat: {duplicates:,}\")\n",
    "print(f\"Përqindja e dublikateve: {(duplicates/len(df)*100):.2f}%\")"
   ]
  },
  {
   "cell_type": "markdown",
   "id": "f7dba777",
   "metadata": {},
   "source": [
    "## 4.5 Reduktimi Inteligjent i Kolonave / Intelligent Column Reduction\n",
    "\n",
    "Reduktimi i numrit të kolonave duke hequr:\n",
    "- Kolonat me variancë të ulët (low variance)\n",
    "- Kolonat me korrelacion të lartë (high correlation)"
   ]
  },
  {
   "cell_type": "code",
   "execution_count": null,
   "id": "bceb61d6",
   "metadata": {},
   "outputs": [],
   "source": [
    "# HAPI 4: Përmbledhje e Reduktimit\n",
    "print(\"\\n\" + \"=\"*70)\n",
    "print(\"📊 PËRMBLEDHJA E REDUKTIMIT TË KOLONAVE\")\n",
    "print(\"=\"*70)\n",
    "\n",
    "final_count = len(df_reduced.columns)\n",
    "removed_count = original_count - final_count\n",
    "reduction_percent = (removed_count / original_count) * 100\n",
    "\n",
    "print(f\"\\n✅ Kolonat fillestare:  {original_count}\")\n",
    "print(f\"❌ Kolonat e hequra:    {removed_count}\")\n",
    "print(f\"✅ Kolonat e mbetura:   {final_count}\")\n",
    "print(f\"📉 Reduktim:            {reduction_percent:.1f}%\")\n",
    "\n",
    "print(f\"\\n📋 Lista e kolonave të mbetura:\")\n",
    "for i, col in enumerate(df_reduced.columns, 1):\n",
    "    print(f\"   {i}. {col}\")\n",
    "\n",
    "print(f\"\\n✅ Dataset i optimizuar: {len(df_reduced):,} rreshta × {final_count} kolona\")\n",
    "print(\"\\n💡 Tani do të punojmë me këtë dataset të reduktuar për analizat e tjera!\")"
   ]
  },
  {
   "cell_type": "code",
   "execution_count": null,
   "id": "1d31a8df",
   "metadata": {},
   "outputs": [],
   "source": [
    "# Vizualizimi i reduktimit\n",
    "fig, (ax1, ax2) = plt.subplots(1, 2, figsize=(14, 5))\n",
    "\n",
    "# Grafiku 1: Krahasimi para/pas\n",
    "categories = ['Fillestare', 'Pas Reduktimit']\n",
    "counts = [original_count, final_count]\n",
    "colors = ['#ff6b6b', '#51cf66']\n",
    "\n",
    "ax1.bar(categories, counts, color=colors, alpha=0.7, edgecolor='black')\n",
    "ax1.set_ylabel('Numri i Kolonave')\n",
    "ax1.set_title('Krahasimi: Para dhe Pas Reduktimit', fontsize=12, fontweight='bold')\n",
    "ax1.set_ylim(0, original_count + 5)\n",
    "\n",
    "# Shto vlerat mbi shtylla\n",
    "for i, (cat, count) in enumerate(zip(categories, counts)):\n",
    "    ax1.text(i, count + 0.5, str(count), ha='center', fontweight='bold', fontsize=12)\n",
    "\n",
    "# Grafiku 2: Pie chart e reduktimit\n",
    "sizes = [final_count, removed_count]\n",
    "labels = [f'Të mbetur\\n({final_count} kolona)', f'Të hequra\\n({removed_count} kolona)']\n",
    "colors_pie = ['#51cf66', '#ff6b6b']\n",
    "explode = (0.05, 0.05)\n",
    "\n",
    "ax2.pie(sizes, explode=explode, labels=labels, colors=colors_pie, autopct='%1.1f%%',\n",
    "        shadow=True, startangle=90, textprops={'fontsize': 11, 'fontweight': 'bold'})\n",
    "ax2.set_title('Përqindja e Reduktimit', fontsize=12, fontweight='bold')\n",
    "\n",
    "plt.tight_layout()\n",
    "plt.show()\n",
    "\n",
    "print(f\"\\n🎯 Dataset i optimizuar është gati për analizë!\")"
   ]
  }
 ],
 "metadata": {
  "language_info": {
   "name": "python"
  }
 },
 "nbformat": 4,
 "nbformat_minor": 5
}
