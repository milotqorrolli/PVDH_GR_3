{
 "cells": [
  {
   "cell_type": "markdown",
   "id": "6d553385",
   "metadata": {},
   "source": [
    "Initial setup notebook for exploring and cleaning the dataset."
   ]
  }
 ],
 "metadata": {
  "language_info": {
   "name": "python"
  }
 },
 "nbformat": 4,
 "nbformat_minor": 5
}
